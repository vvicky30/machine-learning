{
  "nbformat": 4,
  "nbformat_minor": 0,
  "metadata": {
    "colab": {
      "name": "concept_learning_with_pakages.ipynb",
      "provenance": [],
      "authorship_tag": "ABX9TyOqOPhOMhcZLu0zRKNOkK/r",
      "include_colab_link": true
    },
    "kernelspec": {
      "name": "python3",
      "display_name": "Python 3"
    }
  },
  "cells": [
    {
      "cell_type": "markdown",
      "metadata": {
        "id": "view-in-github",
        "colab_type": "text"
      },
      "source": [
        "<a href=\"https://colab.research.google.com/github/vvicky30/machine-learning/blob/master/concept_learning_with_pakages.ipynb\" target=\"_parent\"><img src=\"https://colab.research.google.com/assets/colab-badge.svg\" alt=\"Open In Colab\"/></a>"
      ]
    },
    {
      "cell_type": "code",
      "metadata": {
        "id": "QEp4SJAyg5at",
        "colab_type": "code",
        "colab": {
          "base_uri": "https://localhost:8080/",
          "height": 832
        },
        "outputId": "e9724c41-4f06-4ef6-f8f8-2e2e8e313e31"
      },
      "source": [
        "import numpy as np \n",
        "import pandas as pd \n",
        "data = pd.DataFrame(data=pd.read_csv('/content/trainingexamples.csv')) \n",
        "concepts = np.array(data.iloc[:,0:-1])\n",
        "print(concepts) \n",
        "target = np.array(data.iloc[:,-1])  \n",
        "print(target)\n",
        "def learn(concepts, target): \n",
        "    specific_h = concepts[0].copy()     \n",
        "    print(\"initialization of specific_h and general_h\")     \n",
        "    print(specific_h)  \n",
        "    general_h = [[\"?\" for i in range(len(specific_h))] for i in range(len(specific_h))]     \n",
        "    print(general_h)  \n",
        "    for i, h in enumerate(concepts): \n",
        "        if target[i] == \"Y\": \n",
        "            for x in range(len(specific_h)): \n",
        "                if h[x]!= specific_h[x]:                    \n",
        "                    specific_h[x] ='?'                     \n",
        "                    general_h[x][x] ='?'\n",
        "                print(specific_h)\n",
        "        print(specific_h)\n",
        "        if target[i] == \"N\":            \n",
        "            for x in range(len(specific_h)): \n",
        "                if h[x]!= specific_h[x]:                    \n",
        "                    general_h[x][x] = specific_h[x]                \n",
        "                else:                    \n",
        "                    general_h[x][x] = '?'        \n",
        "        print(\" steps of Candidate Elimination Algorithm\",i+1)        \n",
        "        print(specific_h)         \n",
        "        print(general_h)  \n",
        "    indices = [i for i, val in enumerate(general_h) if val == ['?', '?', '?', '?', '?', '?']]    \n",
        "    for i in indices:   \n",
        "        general_h.remove(['?', '?', '?', '?', '?', '?']) \n",
        "    return specific_h, general_h \n",
        "s_final, g_final = learn(concepts, target)\n",
        "print(\"Final Specific_h:\", s_final, sep=\"\\n\")\n",
        "print(\"Final General_h:\", g_final, sep=\"\\n\") \n",
        "#data.head()  "
      ],
      "execution_count": 2,
      "outputs": [
        {
          "output_type": "stream",
          "text": [
            "[['Sunny' 'Warm' 'Normal' 'Strong' 'Warm' 'Same']\n",
            " ['Sunny' 'Warm' 'High' 'Strong' 'Warm' 'Same']\n",
            " ['Rainy' 'Cold' 'High' 'Strong' 'Warm' 'Change']\n",
            " ['Sunny' 'Warm' 'High' 'Strong' 'Cool' 'Change']]\n",
            "['Y' 'Y' 'N' 'Y']\n",
            "initialization of specific_h and general_h\n",
            "['Sunny' 'Warm' 'Normal' 'Strong' 'Warm' 'Same']\n",
            "[['?', '?', '?', '?', '?', '?'], ['?', '?', '?', '?', '?', '?'], ['?', '?', '?', '?', '?', '?'], ['?', '?', '?', '?', '?', '?'], ['?', '?', '?', '?', '?', '?'], ['?', '?', '?', '?', '?', '?']]\n",
            "['Sunny' 'Warm' 'Normal' 'Strong' 'Warm' 'Same']\n",
            "['Sunny' 'Warm' 'Normal' 'Strong' 'Warm' 'Same']\n",
            "['Sunny' 'Warm' 'Normal' 'Strong' 'Warm' 'Same']\n",
            "['Sunny' 'Warm' 'Normal' 'Strong' 'Warm' 'Same']\n",
            "['Sunny' 'Warm' 'Normal' 'Strong' 'Warm' 'Same']\n",
            "['Sunny' 'Warm' 'Normal' 'Strong' 'Warm' 'Same']\n",
            "['Sunny' 'Warm' 'Normal' 'Strong' 'Warm' 'Same']\n",
            " steps of Candidate Elimination Algorithm 1\n",
            "['Sunny' 'Warm' 'Normal' 'Strong' 'Warm' 'Same']\n",
            "[['?', '?', '?', '?', '?', '?'], ['?', '?', '?', '?', '?', '?'], ['?', '?', '?', '?', '?', '?'], ['?', '?', '?', '?', '?', '?'], ['?', '?', '?', '?', '?', '?'], ['?', '?', '?', '?', '?', '?']]\n",
            "['Sunny' 'Warm' 'Normal' 'Strong' 'Warm' 'Same']\n",
            "['Sunny' 'Warm' 'Normal' 'Strong' 'Warm' 'Same']\n",
            "['Sunny' 'Warm' '?' 'Strong' 'Warm' 'Same']\n",
            "['Sunny' 'Warm' '?' 'Strong' 'Warm' 'Same']\n",
            "['Sunny' 'Warm' '?' 'Strong' 'Warm' 'Same']\n",
            "['Sunny' 'Warm' '?' 'Strong' 'Warm' 'Same']\n",
            "['Sunny' 'Warm' '?' 'Strong' 'Warm' 'Same']\n",
            " steps of Candidate Elimination Algorithm 2\n",
            "['Sunny' 'Warm' '?' 'Strong' 'Warm' 'Same']\n",
            "[['?', '?', '?', '?', '?', '?'], ['?', '?', '?', '?', '?', '?'], ['?', '?', '?', '?', '?', '?'], ['?', '?', '?', '?', '?', '?'], ['?', '?', '?', '?', '?', '?'], ['?', '?', '?', '?', '?', '?']]\n",
            "['Sunny' 'Warm' '?' 'Strong' 'Warm' 'Same']\n",
            " steps of Candidate Elimination Algorithm 3\n",
            "['Sunny' 'Warm' '?' 'Strong' 'Warm' 'Same']\n",
            "[['Sunny', '?', '?', '?', '?', '?'], ['?', 'Warm', '?', '?', '?', '?'], ['?', '?', '?', '?', '?', '?'], ['?', '?', '?', '?', '?', '?'], ['?', '?', '?', '?', '?', '?'], ['?', '?', '?', '?', '?', 'Same']]\n",
            "['Sunny' 'Warm' '?' 'Strong' 'Warm' 'Same']\n",
            "['Sunny' 'Warm' '?' 'Strong' 'Warm' 'Same']\n",
            "['Sunny' 'Warm' '?' 'Strong' 'Warm' 'Same']\n",
            "['Sunny' 'Warm' '?' 'Strong' 'Warm' 'Same']\n",
            "['Sunny' 'Warm' '?' 'Strong' '?' 'Same']\n",
            "['Sunny' 'Warm' '?' 'Strong' '?' '?']\n",
            "['Sunny' 'Warm' '?' 'Strong' '?' '?']\n",
            " steps of Candidate Elimination Algorithm 4\n",
            "['Sunny' 'Warm' '?' 'Strong' '?' '?']\n",
            "[['Sunny', '?', '?', '?', '?', '?'], ['?', 'Warm', '?', '?', '?', '?'], ['?', '?', '?', '?', '?', '?'], ['?', '?', '?', '?', '?', '?'], ['?', '?', '?', '?', '?', '?'], ['?', '?', '?', '?', '?', '?']]\n",
            "Final Specific_h:\n",
            "['Sunny' 'Warm' '?' 'Strong' '?' '?']\n",
            "Final General_h:\n",
            "[['Sunny', '?', '?', '?', '?', '?'], ['?', 'Warm', '?', '?', '?', '?']]\n"
          ],
          "name": "stdout"
        }
      ]
    },
    {
      "cell_type": "code",
      "metadata": {
        "id": "ZLC18_rRpapB",
        "colab_type": "code",
        "colab": {
          "base_uri": "https://localhost:8080/",
          "height": 415
        },
        "outputId": "1fcbc3c8-5072-41e4-8e76-abe71856c49d"
      },
      "source": [
        "import csv \n",
        "#!usr/bin/python #list creatin \n",
        "hypo=['%','%','%','%','%','%'] \n",
        "with open('/content/Training_examples.csv') as csv_file:  \n",
        "    readcsv = csv.reader(csv_file, delimiter=',')  \n",
        "    print(readcsv)  \n",
        "    data=[]  \n",
        "    print(\"\\nThe given training examples are:\")  \n",
        "    for row in readcsv:     \n",
        "        print(row)  \n",
        "        if row[len(row)-1] =='Yes':    \n",
        "            data.append(row)    \n",
        "print(\"\\nThe positive examples are:\")\n",
        "for x in data:  \n",
        "    print(x) \n",
        "print(\"\\n\") \n",
        "TotalExamples=len(data) \n",
        "i=0 \n",
        "j=0\n",
        "k=0 \n",
        "print(\"The steps of the Find-s algorithm are\\n\",hypo) \n",
        "list =[]\n",
        "p=0\n",
        "d=len(data[p])-1\n",
        "for j in range(d):  \n",
        "    list.append(data[i][j])\n",
        "hypo=list\n",
        "for i in range(1,TotalExamples):   \n",
        "    for k in range(d): \n",
        "        if hypo[k]!=data[i][k]: \n",
        "            hypo[k]='?'\n",
        "        else:    \n",
        "            hypo[k] \n",
        "    print(hypo)\n",
        "    print(\"---------------------------------\")\n",
        "print(\"\\nThe maximally specific Find-s hypothesis for the given training examples is\");\n",
        "list=[]\n",
        "for i in range(d):  \n",
        "    list.append(hypo[i])\n",
        "print(list)  "
      ],
      "execution_count": 3,
      "outputs": [
        {
          "output_type": "stream",
          "text": [
            "<_csv.reader object at 0x7f9386a872e8>\n",
            "\n",
            "The given training examples are:\n",
            "['Sunny', 'Warm', 'Normal', 'Strong', 'Warm', 'Same', 'Yes']\n",
            "['Sunny', 'Warm', 'High', 'Strong', 'Warm', 'Same', 'Yes']\n",
            "['Rainy', 'Cold', 'High', 'Strong', 'Warm', 'Change', 'No']\n",
            "['Sunny', 'Warm', 'High', 'Strong', 'Cool', 'Change', 'Yes']\n",
            "\n",
            "The positive examples are:\n",
            "['Sunny', 'Warm', 'Normal', 'Strong', 'Warm', 'Same', 'Yes']\n",
            "['Sunny', 'Warm', 'High', 'Strong', 'Warm', 'Same', 'Yes']\n",
            "['Sunny', 'Warm', 'High', 'Strong', 'Cool', 'Change', 'Yes']\n",
            "\n",
            "\n",
            "The steps of the Find-s algorithm are\n",
            " ['%', '%', '%', '%', '%', '%']\n",
            "['Sunny', 'Warm', '?', 'Strong', 'Warm', 'Same']\n",
            "---------------------------------\n",
            "['Sunny', 'Warm', '?', 'Strong', '?', '?']\n",
            "---------------------------------\n",
            "\n",
            "The maximally specific Find-s hypothesis for the given training examples is\n",
            "['Sunny', 'Warm', '?', 'Strong', '?', '?']\n"
          ],
          "name": "stdout"
        }
      ]
    }
  ]
}