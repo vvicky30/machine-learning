{
  "nbformat": 4,
  "nbformat_minor": 0,
  "metadata": {
    "colab": {
      "name": "hypothesis.ipynb",
      "provenance": [],
      "collapsed_sections": [],
      "toc_visible": true,
      "authorship_tag": "ABX9TyPBqxjbhEdQhvE2ZJa0A/i0",
      "include_colab_link": true
    },
    "kernelspec": {
      "name": "python3",
      "display_name": "Python 3"
    }
  },
  "cells": [
    {
      "cell_type": "markdown",
      "metadata": {
        "id": "view-in-github",
        "colab_type": "text"
      },
      "source": [
        "<a href=\"https://colab.research.google.com/github/vvicky30/machine-learning/blob/master/hypothesis.ipynb\" target=\"_parent\"><img src=\"https://colab.research.google.com/assets/colab-badge.svg\" alt=\"Open In Colab\"/></a>"
      ]
    },
    {
      "cell_type": "code",
      "metadata": {
        "id": "4N0aM6R75Z3X",
        "colab_type": "code",
        "outputId": "f3b3ee12-a2a8-4471-c474-6cb8ef1b9fb1",
        "colab": {
          "base_uri": "https://localhost:8080/",
          "height": 54
        }
      },
      "source": [
        "#Ex1 implement and demonstrate the FIND-S algorithm for finding the most specific  hypothesis based on given set of training data sample . read the training data from .csv file\n",
        "\"\"\"\n",
        "steps of algorithms:-\n",
        "1. initialize h to most specific hypothesis in H\n",
        "2. for each positive training instance x \n",
        "  for each attribute constant a[i] in h\n",
        "   if the constraint a[i] is satisfied by x\n",
        "    then do nothing\n",
        "   else a[i] in h by the next more general constraint that is satisfied by x\n",
        "3. output hypothesis is h\n",
        "\"\"\""
      ],
      "execution_count": 0,
      "outputs": [
        {
          "output_type": "execute_result",
          "data": {
            "text/plain": [
              "'\\nsteps of algorithms:-\\n1. initialize h to most specific hypothesis in H\\n2. for each positive training instance x \\n  for each attribute constant a[i] in h\\n   if the constraint a[i] is satisfied by x\\n    then do nothing\\n   else a[i] in h by the next more general constraint that is satisfied by x\\n3. output hypothesis is h\\n'"
            ]
          },
          "metadata": {
            "tags": []
          },
          "execution_count": 2
        }
      ]
    },
    {
      "cell_type": "code",
      "metadata": {
        "id": "sti5GvggGKnQ",
        "colab_type": "code",
        "outputId": "ae87c7d2-d372-4c56-8102-52fa3d025892",
        "colab": {
          "base_uri": "https://localhost:8080/",
          "height": 173
        }
      },
      "source": [
        "import pandas as pd \n",
        "d=pd.read_csv(\"/content/ML1.csv\")\n",
        "d.info\n",
        "d\n"
      ],
      "execution_count": 0,
      "outputs": [
        {
          "output_type": "execute_result",
          "data": {
            "text/html": [
              "<div>\n",
              "<style scoped>\n",
              "    .dataframe tbody tr th:only-of-type {\n",
              "        vertical-align: middle;\n",
              "    }\n",
              "\n",
              "    .dataframe tbody tr th {\n",
              "        vertical-align: top;\n",
              "    }\n",
              "\n",
              "    .dataframe thead th {\n",
              "        text-align: right;\n",
              "    }\n",
              "</style>\n",
              "<table border=\"1\" class=\"dataframe\">\n",
              "  <thead>\n",
              "    <tr style=\"text-align: right;\">\n",
              "      <th></th>\n",
              "      <th>sky</th>\n",
              "      <th>airtemp</th>\n",
              "      <th>humidity</th>\n",
              "      <th>wind</th>\n",
              "      <th>water</th>\n",
              "      <th>forcast</th>\n",
              "      <th>enjoysport</th>\n",
              "    </tr>\n",
              "  </thead>\n",
              "  <tbody>\n",
              "    <tr>\n",
              "      <th>0</th>\n",
              "      <td>sunny</td>\n",
              "      <td>warm</td>\n",
              "      <td>normal</td>\n",
              "      <td>strong</td>\n",
              "      <td>warm</td>\n",
              "      <td>same</td>\n",
              "      <td>yes</td>\n",
              "    </tr>\n",
              "    <tr>\n",
              "      <th>1</th>\n",
              "      <td>sunny</td>\n",
              "      <td>warm</td>\n",
              "      <td>high</td>\n",
              "      <td>strong</td>\n",
              "      <td>warm</td>\n",
              "      <td>same</td>\n",
              "      <td>yes</td>\n",
              "    </tr>\n",
              "    <tr>\n",
              "      <th>2</th>\n",
              "      <td>rainy</td>\n",
              "      <td>cold</td>\n",
              "      <td>high</td>\n",
              "      <td>strong</td>\n",
              "      <td>warm</td>\n",
              "      <td>change</td>\n",
              "      <td>no</td>\n",
              "    </tr>\n",
              "    <tr>\n",
              "      <th>3</th>\n",
              "      <td>sunny</td>\n",
              "      <td>warm</td>\n",
              "      <td>high</td>\n",
              "      <td>strong</td>\n",
              "      <td>cool</td>\n",
              "      <td>change</td>\n",
              "      <td>yes</td>\n",
              "    </tr>\n",
              "  </tbody>\n",
              "</table>\n",
              "</div>"
            ],
            "text/plain": [
              "     sky airtemp humidity    wind water forcast enjoysport\n",
              "0  sunny    warm   normal  strong  warm    same        yes\n",
              "1  sunny    warm     high  strong  warm    same        yes\n",
              "2  rainy    cold     high  strong  warm  change         no\n",
              "3  sunny    warm     high  strong  cool  change        yes"
            ]
          },
          "metadata": {
            "tags": []
          },
          "execution_count": 13
        }
      ]
    },
    {
      "cell_type": "code",
      "metadata": {
        "id": "cp4uukNTJWfW",
        "colab_type": "code",
        "outputId": "73fc14c7-bca5-43e6-c4bf-bcdeb9d35574",
        "colab": {
          "base_uri": "https://localhost:8080/",
          "height": 445
        }
      },
      "source": [
        "import csv\n",
        "a = []\n",
        "\n",
        "\n",
        "with open('/content/ML1.csv', 'r') as csvfile:\n",
        "    for row in csv.reader(csvfile):\n",
        "        a.append(row)\n",
        "    print(a)\n",
        "\n",
        "print(\"\\n The total number of training instances are : \",len(a))\n",
        "\n",
        "num_attribute = len(a[0])-1\n",
        "\n",
        "print(\"\\n The initial hypothesis is : \")\n",
        "hypothesis = ['0']*num_attribute\n",
        "print(hypothesis)\n",
        "\n",
        "for i in range(0, len(a)):\n",
        "    if a[i][num_attribute] == 'yes':\n",
        "        for j in range(0, num_attribute):\n",
        "            if hypothesis[j] == '0' or hypothesis[j] == a[i][j]:\n",
        "                hypothesis[j] = a[i][j]\n",
        "            else:\n",
        "                hypothesis[j] = '?'\n",
        "    print(\"\\n The hypothesis for the training instance {} is : \\n\" .format(i+1),hypothesis)\n",
        "\n",
        "print(\"\\n The Maximally specific hypothesis for the training instance is \")\n",
        "print(hypothesis)\n"
      ],
      "execution_count": 0,
      "outputs": [
        {
          "output_type": "stream",
          "text": [
            "[['sky', 'airtemp', 'humidity', 'wind', 'water', 'forcast', 'enjoysport'], ['sunny', 'warm', 'normal', 'strong', 'warm', 'same', 'yes'], ['sunny', 'warm', 'high', 'strong', 'warm', 'same', 'yes'], ['rainy', 'cold', 'high', 'strong', 'warm', 'change', 'no'], ['sunny', 'warm', 'high', 'strong', 'cool', 'change', 'yes']]\n",
            "\n",
            " The total number of training instances are :  5\n",
            "\n",
            " The initial hypothesis is : \n",
            "['0', '0', '0', '0', '0', '0']\n",
            "\n",
            " The hypothesis for the training instance 1 is : \n",
            " ['0', '0', '0', '0', '0', '0']\n",
            "\n",
            " The hypothesis for the training instance 2 is : \n",
            " ['sunny', 'warm', 'normal', 'strong', 'warm', 'same']\n",
            "\n",
            " The hypothesis for the training instance 3 is : \n",
            " ['sunny', 'warm', '?', 'strong', 'warm', 'same']\n",
            "\n",
            " The hypothesis for the training instance 4 is : \n",
            " ['sunny', 'warm', '?', 'strong', 'warm', 'same']\n",
            "\n",
            " The hypothesis for the training instance 5 is : \n",
            " ['sunny', 'warm', '?', 'strong', '?', '?']\n",
            "\n",
            " The Maximally specific hypothesis for the training instance is \n",
            "['sunny', 'warm', '?', 'strong', '?', '?']\n"
          ],
          "name": "stdout"
        }
      ]
    }
  ]
}