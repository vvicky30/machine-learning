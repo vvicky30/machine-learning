{
 "cells": [
  {
   "cell_type": "code",
   "execution_count": 0,
   "metadata": {
    "colab": {},
    "colab_type": "code",
    "id": "6TfwGbYzr-Hu"
   },
   "outputs": [],
   "source": [
    "import tensorflow as tf\n",
    "import cv2\n",
    "from collections import deque\n",
    "import numpy as np"
   ]
  },
  {
   "cell_type": "code",
   "execution_count": 0,
   "metadata": {
    "colab": {},
    "colab_type": "code",
    "id": "MGn6d3hvsk6l"
   },
   "outputs": [],
   "source": [
    "(x_train, y_train), (x_test, y_test) = tf.keras.datasets.mnist.load_data()   #using standard datasets(mnist  *npz-file) from keras using tensorflow in backend\n",
    "\n",
    "x_train.shape\n",
    "\n",
    "#Reshaping\n",
    "x_train = x_train.reshape(x_train.shape[0], 28, 28, 1)\n",
    "x_test = x_test.reshape(x_test.shape[0], 28, 28, 1)\n",
    "input_shape = (28, 28, 1)  #configure input \n",
    "\n",
    "x_train = x_train.astype('float32') #typecasting into float32 datatype\n",
    "x_test = x_test.astype('float32') #typecasting into float32 datatype\n",
    "\n",
    "x_train /= 255\n",
    "x_test /= 255"
   ]
  },
  {
   "cell_type": "code",
   "execution_count": 8,
   "metadata": {
    "colab": {
     "base_uri": "https://localhost:8080/",
     "height": 67
    },
    "colab_type": "code",
    "executionInfo": {
     "elapsed": 1356,
     "status": "ok",
     "timestamp": 1564924011477,
     "user": {
      "displayName": "Vedant Bhatt",
      "photoUrl": "https://lh5.googleusercontent.com/-hk3-zGA4Opk/AAAAAAAAAAI/AAAAAAAAACc/7Vu5kDhzZG8/s64/photo.jpg",
      "userId": "06831906087201059917"
     },
     "user_tz": -330
    },
    "id": "dmEdi6tNtAfI",
    "outputId": "9e55cfa9-018f-44f8-e5ee-679f50e9dcb9"
   },
   "outputs": [
    {
     "name": "stdout",
     "output_type": "stream",
     "text": [
      "x_train shape: (60000, 28, 28, 1)\n",
      "Number of images in x_train 60000\n",
      "Number of images in x_test 10000\n"
     ]
    }
   ],
   "source": [
    "#now displaying all configured test 7 train data\n",
    "print('x_train shape:', x_train.shape)\n",
    "print('Number of images in x_train', x_train.shape[0])\n",
    "print('Number of images in x_test', x_test.shape[0])"
   ]
  },
  {
   "cell_type": "code",
   "execution_count": 0,
   "metadata": {
    "colab": {},
    "colab_type": "code",
    "id": "tCo3bZPbusI7"
   },
   "outputs": [],
   "source": [
    "from keras.models import Sequential  #here The sequential API allows you to create models layer-by-layer for most problems.\n",
    "                                     #It is limited in that it does not allow you to create models that share layers or have multiple inputs or outputs\n",
    "from keras.layers import *   #importing All\n",
    "model = Sequential()         #calling sequential-function as in variable model\n",
    "model.add(Conv2D(28, kernel_size=(3, 3), activation='relu', input_shape=input_shape))\n",
    "   # here the number of output filters in the convolution=28----- here the kernel_size=(3,3)specifying the length of the 1D convolution window\n",
    "   #here using activation function we going to use is 'relu'----If we don't specify anything, no activation-function is applied (ie. \"linear\" activation: a(x) = x)\n",
    "   #here the input_shape is 3-dimensional i.e. 3D tensor with shape: (batch-size, steps-size, no. ofchannels) #syntax\n",
    "model.add(MaxPooling2D(pool_size=(2, 2)))#here the  tuple of 2 integers, factors by which to downscale (vertical, horizontal). \n",
    "             #(2, 2) will halve the input in both spatial dimension. If only one integer is specified, the same window length will be used for both dimensions\n",
    "             #its using concept of 'recycling of vectors' in this case its 'tuples'\n",
    "model.add(Flatten())  #If we wanted to use a Dense(a fully connected layer) after your convolution layers, \n",
    "                     #we would need to ‘unstack’ all this multidimensional tensor into a very long 1D tensor. You can achieve this using Flatten.\n",
    "model.add(Dense(128, activation='relu'))#as we make dense CNN\n",
    "model.add(Dropout(0.2))#for avoiding overfitting in CNN-model\n",
    "model.add(Dense(10, activation='softmax'))  #here using softmax activation for multinomial logistic regression and interpreting neural network outputs are probabilities as 'yes' or 'no'"
   ]
  },
  {
   "cell_type": "code",
   "execution_count": 0,
   "metadata": {
    "colab": {},
    "colab_type": "code",
    "id": "bNHV7Dvy2lq5"
   },
   "outputs": [],
   "source": [
    "model.compile(optimizer='adam', loss='sparse_categorical_crossentropy', metrics=['accuracy']) #as here if our targets are integers, so we preffred sparse_categorical_crossentropy\n",
    "#Examples of integer encodings (for the sake of completion): 1,2,3 and so on\n",
    "#but if our targets are one-hot-encoded numbers then we use categorical_crossentropy only\n",
    "#and here we also use 'adam' optimizer as 'adam'can be looked at as a combination of RMSprop and Stochastic Gradient Descent with momentum"
   ]
  },
  {
   "cell_type": "code",
   "execution_count": 16,
   "metadata": {
    "colab": {
     "base_uri": "https://localhost:8080/",
     "height": 438
    },
    "colab_type": "code",
    "executionInfo": {
     "elapsed": 410497,
     "status": "ok",
     "timestamp": 1564926800466,
     "user": {
      "displayName": "Vedant Bhatt",
      "photoUrl": "https://lh5.googleusercontent.com/-hk3-zGA4Opk/AAAAAAAAAAI/AAAAAAAAACc/7Vu5kDhzZG8/s64/photo.jpg",
      "userId": "06831906087201059917"
     },
     "user_tz": -330
    },
    "id": "LaDQEbs02ull",
    "outputId": "07d447e3-9928-4e5d-c33b-895193b5a155"
   },
   "outputs": [
    {
     "name": "stderr",
     "output_type": "stream",
     "text": [
      "W0804 13:46:31.275536 139668138743680 deprecation.py:323] From /usr/local/lib/python3.6/dist-packages/tensorflow/python/ops/math_grad.py:1250: add_dispatch_support.<locals>.wrapper (from tensorflow.python.ops.array_ops) is deprecated and will be removed in a future version.\n",
      "Instructions for updating:\n",
      "Use tf.where in 2.0, which has the same broadcast rule as np.where\n"
     ]
    },
    {
     "name": "stdout",
     "output_type": "stream",
     "text": [
      "Epoch 1/10\n",
      "60000/60000 [==============================] - 42s 707us/step - loss: 0.1753 - acc: 0.9484\n",
      "Epoch 2/10\n",
      "60000/60000 [==============================] - 41s 686us/step - loss: 0.0636 - acc: 0.9805\n",
      "Epoch 3/10\n",
      "60000/60000 [==============================] - 41s 682us/step - loss: 0.0450 - acc: 0.9860\n",
      "Epoch 4/10\n",
      "60000/60000 [==============================] - 41s 682us/step - loss: 0.0320 - acc: 0.9896\n",
      "Epoch 5/10\n",
      "60000/60000 [==============================] - 41s 678us/step - loss: 0.0256 - acc: 0.9917\n",
      "Epoch 6/10\n",
      "60000/60000 [==============================] - 41s 685us/step - loss: 0.0200 - acc: 0.9932\n",
      "Epoch 7/10\n",
      "60000/60000 [==============================] - 40s 674us/step - loss: 0.0162 - acc: 0.9945\n",
      "Epoch 8/10\n",
      "60000/60000 [==============================] - 40s 674us/step - loss: 0.0130 - acc: 0.9954\n",
      "Epoch 9/10\n",
      "60000/60000 [==============================] - 41s 675us/step - loss: 0.0110 - acc: 0.9962\n",
      "Epoch 10/10\n",
      "60000/60000 [==============================] - 40s 673us/step - loss: 0.0100 - acc: 0.9967\n"
     ]
    },
    {
     "data": {
      "text/plain": [
       "<keras.callbacks.History at 0x7f06c39c0f98>"
      ]
     },
     "execution_count": 16,
     "metadata": {
      "tags": []
     },
     "output_type": "execute_result"
    }
   ],
   "source": [
    "model.fit(x=x_train,y=y_train,epochs=10)  #now starts to train model ##for epoch-size=10 to be generate"
   ]
  },
  {
   "cell_type": "code",
   "execution_count": 0,
   "metadata": {
    "colab": {},
    "colab_type": "code",
    "id": "hsT431yv4a6S"
   },
   "outputs": [],
   "source": [
    "model.save('cnn_num_gesture_opencv.h5')  #saving model"
   ]
  },
  {
   "cell_type": "code",
   "execution_count": 0,
   "metadata": {
    "colab": {},
    "colab_type": "code",
    "id": "lSp7mKme6aXc"
   },
   "outputs": [],
   "source": []
  }
 ],
 "metadata": {
  "colab": {
   "collapsed_sections": [],
   "name": "num_model.ipynb",
   "provenance": [],
   "version": "0.3.2"
  },
  "kernelspec": {
   "display_name": "Python 3",
   "language": "python",
   "name": "python3"
  },
  "language_info": {
   "codemirror_mode": {
    "name": "ipython",
    "version": 3
   },
   "file_extension": ".py",
   "mimetype": "text/x-python",
   "name": "python",
   "nbconvert_exporter": "python",
   "pygments_lexer": "ipython3",
   "version": "3.7.3"
  }
 },
 "nbformat": 4,
 "nbformat_minor": 1
}
