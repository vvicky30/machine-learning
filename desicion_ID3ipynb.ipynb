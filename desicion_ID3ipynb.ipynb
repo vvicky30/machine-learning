{
  "nbformat": 4,
  "nbformat_minor": 0,
  "metadata": {
    "colab": {
      "name": "desicion_ID3ipynb",
      "provenance": [],
      "collapsed_sections": [],
      "authorship_tag": "ABX9TyN5FDi7tPjaAIfqSQKW+VNy",
      "include_colab_link": true
    },
    "kernelspec": {
      "name": "python3",
      "display_name": "Python 3"
    }
  },
  "cells": [
    {
      "cell_type": "markdown",
      "metadata": {
        "id": "view-in-github",
        "colab_type": "text"
      },
      "source": [
        "<a href=\"https://colab.research.google.com/github/vvicky30/machine-learning/blob/master/desicion_ID3ipynb.ipynb\" target=\"_parent\"><img src=\"https://colab.research.google.com/assets/colab-badge.svg\" alt=\"Open In Colab\"/></a>"
      ]
    },
    {
      "cell_type": "code",
      "metadata": {
        "id": "xAkJv4SrxqjF",
        "colab_type": "code",
        "colab": {
          "base_uri": "https://localhost:8080/",
          "height": 397
        },
        "outputId": "46b31b30-22c0-42eb-c612-0369db20d074"
      },
      "source": [
        "import math\n",
        "import csv\n",
        "def load_csv(filename):\n",
        "    lines=csv.reader(open(filename,\"r\"));\n",
        "    dataset = list(lines)\n",
        "    headers = dataset.pop(0)\n",
        "    return dataset,headers\n",
        "\n",
        "class Node:\n",
        "    def __init__(self,attribute):\n",
        "        self.attribute=attribute\n",
        "        self.children=[]\n",
        "        self.answer=\"\"\n",
        "        \n",
        "def subtables(data,col,delete):\n",
        "    dic={}\n",
        "    coldata=[row[col] for row in data]\n",
        "    attr=list(set(coldata))\n",
        "    \n",
        "    counts=[0]*len(attr)\n",
        "    r=len(data)\n",
        "    c=len(data[0])\n",
        "    for x in range(len(attr)):\n",
        "        for y in range(r):\n",
        "            if data[y][col]==attr[x]:\n",
        "                counts[x]+=1\n",
        "        \n",
        "    for x in range(len(attr)):\n",
        "        dic[attr[x]]=[[0 for i in range(c)] for j in range(counts[x])]\n",
        "        pos=0\n",
        "        for y in range(r):\n",
        "            if data[y][col]==attr[x]:\n",
        "                if delete:\n",
        "                    del data[y][col]\n",
        "                dic[attr[x]][pos]=data[y]\n",
        "                pos+=1\n",
        "    return attr,dic\n",
        "    \n",
        "def entropy(S):\n",
        "    attr=list(set(S))\n",
        "    if len(attr)==1:\n",
        "        return 0\n",
        "    \n",
        "    counts=[0,0]\n",
        "    for i in range(2):\n",
        "        counts[i]=sum([1 for x in S if attr[i]==x])/(len(S)*1.0)\n",
        "    \n",
        "    sums=0\n",
        "    for cnt in counts:\n",
        "        sums+=-1*cnt*math.log(cnt,2)\n",
        "    return sums\n",
        "\n",
        "def compute_gain(data,col):\n",
        "    attr,dic = subtables(data,col,delete=False)\n",
        "    \n",
        "    total_size=len(data)\n",
        "    entropies=[0]*len(attr)\n",
        "    ratio=[0]*len(attr)\n",
        "    \n",
        "    total_entropy=entropy([row[-1] for row in data])\n",
        "    for x in range(len(attr)):\n",
        "        ratio[x]=len(dic[attr[x]])/(total_size*1.0)\n",
        "        entropies[x]=entropy([row[-1] for row in dic[attr[x]]])\n",
        "        total_entropy-=ratio[x]*entropies[x]\n",
        "    return total_entropy\n",
        "\n",
        "def build_tree(data,features):\n",
        "    lastcol=[row[-1] for row in data]\n",
        "    if(len(set(lastcol)))==1:\n",
        "        node=Node(\"\")\n",
        "        node.answer=lastcol[0]\n",
        "        return node\n",
        "    \n",
        "    n=len(data[0])-1\n",
        "    gains=[0]*n\n",
        "    for col in range(n):\n",
        "        gains[col]=compute_gain(data,col)\n",
        "    split=gains.index(max(gains))\n",
        "    node=Node(features[split])\n",
        "    fea = features[:split]+features[split+1:]\n",
        "\n",
        "    \n",
        "    attr,dic=subtables(data,split,delete=True)\n",
        "    \n",
        "    for x in range(len(attr)):\n",
        "        child=build_tree(dic[attr[x]],fea)\n",
        "        node.children.append((attr[x],child))\n",
        "    return node\n",
        "\n",
        "def print_tree(node,level):\n",
        "    if node.answer!=\"\":\n",
        "        print(\"  \"*level,node.answer)\n",
        "        return\n",
        "    \n",
        "    print(\"  \"*level,node.attribute)\n",
        "    for value,n in node.children:\n",
        "        print(\"  \"*(level+1),value)\n",
        "        print_tree(n,level+2)\n",
        "\n",
        "        \n",
        "def classify(node,x_test,features):\n",
        "    if node.answer!=\"\":\n",
        "        print(node.answer)\n",
        "        return\n",
        "    pos=features.index(node.attribute)\n",
        "    for value, n in node.children:\n",
        "        if x_test[pos]==value:\n",
        "            classify(n,x_test,features)\n",
        "            \n",
        "'''Main program'''\n",
        "dataset,features=load_csv(\"/content/TrainData.csv\")\n",
        "node1=build_tree(dataset,features)\n",
        "\n",
        "print(\"The decision tree for the dataset using ID3 algorithm is\")\n",
        "print_tree(node1,0)\n",
        "testdata,features=load_csv(\"/content/TestData.csv\")\n",
        "\n",
        "for xtest in testdata:\n",
        "    print(\"The test instance:\",xtest)\n",
        "    print(\"The label for test instance:\",end=\"   \")\n",
        "    classify(node1,xtest,features)\n",
        "\n",
        "print(\"testing on behalf of our real-time data\")\n",
        "ytest=['sunny','mild','normal','weak']\n",
        "classify(node1,ytest,features)"
      ],
      "execution_count": 3,
      "outputs": [
        {
          "output_type": "stream",
          "text": [
            "The decision tree for the dataset using ID3 algorithm is\n",
            " Outlook\n",
            "   rain\n",
            "     Wind\n",
            "       strong\n",
            "         no\n",
            "       weak\n",
            "         yes\n",
            "   overcast\n",
            "     yes\n",
            "   sunny\n",
            "     Humidity\n",
            "       high\n",
            "         no\n",
            "       normal\n",
            "         yes\n",
            "The test instance: ['rain', 'cool', 'normal', 'strong']\n",
            "The label for test instance:   no\n",
            "The test instance: ['sunny', 'mild', 'normal', 'strong']\n",
            "The label for test instance:   yes\n",
            "testing on behalf of our real-time data\n",
            "yes\n"
          ],
          "name": "stdout"
        }
      ]
    },
    {
      "cell_type": "code",
      "metadata": {
        "id": "xv4oB8koA2yK",
        "colab_type": "code",
        "colab": {}
      },
      "source": [
        "import pandas as pd\n"
      ],
      "execution_count": 0,
      "outputs": []
    },
    {
      "cell_type": "code",
      "metadata": {
        "id": "oYH4P2WaBKk_",
        "colab_type": "code",
        "colab": {
          "base_uri": "https://localhost:8080/",
          "height": 529
        },
        "outputId": "6f3bd649-6986-4f06-ed4d-72d30b45c667"
      },
      "source": [
        "df=pd.read_csv(\"/content/salaries.csv\")\n",
        "df"
      ],
      "execution_count": 31,
      "outputs": [
        {
          "output_type": "execute_result",
          "data": {
            "text/html": [
              "<div>\n",
              "<style scoped>\n",
              "    .dataframe tbody tr th:only-of-type {\n",
              "        vertical-align: middle;\n",
              "    }\n",
              "\n",
              "    .dataframe tbody tr th {\n",
              "        vertical-align: top;\n",
              "    }\n",
              "\n",
              "    .dataframe thead th {\n",
              "        text-align: right;\n",
              "    }\n",
              "</style>\n",
              "<table border=\"1\" class=\"dataframe\">\n",
              "  <thead>\n",
              "    <tr style=\"text-align: right;\">\n",
              "      <th></th>\n",
              "      <th>company</th>\n",
              "      <th>job</th>\n",
              "      <th>degree</th>\n",
              "      <th>salary_more_then_100k</th>\n",
              "    </tr>\n",
              "  </thead>\n",
              "  <tbody>\n",
              "    <tr>\n",
              "      <th>0</th>\n",
              "      <td>google</td>\n",
              "      <td>sales executive</td>\n",
              "      <td>bachelors</td>\n",
              "      <td>0</td>\n",
              "    </tr>\n",
              "    <tr>\n",
              "      <th>1</th>\n",
              "      <td>google</td>\n",
              "      <td>sales executive</td>\n",
              "      <td>masters</td>\n",
              "      <td>0</td>\n",
              "    </tr>\n",
              "    <tr>\n",
              "      <th>2</th>\n",
              "      <td>google</td>\n",
              "      <td>business manager</td>\n",
              "      <td>bachelors</td>\n",
              "      <td>1</td>\n",
              "    </tr>\n",
              "    <tr>\n",
              "      <th>3</th>\n",
              "      <td>google</td>\n",
              "      <td>business manager</td>\n",
              "      <td>masters</td>\n",
              "      <td>1</td>\n",
              "    </tr>\n",
              "    <tr>\n",
              "      <th>4</th>\n",
              "      <td>google</td>\n",
              "      <td>computer programmer</td>\n",
              "      <td>bachelors</td>\n",
              "      <td>0</td>\n",
              "    </tr>\n",
              "    <tr>\n",
              "      <th>5</th>\n",
              "      <td>google</td>\n",
              "      <td>computer programmer</td>\n",
              "      <td>masters</td>\n",
              "      <td>1</td>\n",
              "    </tr>\n",
              "    <tr>\n",
              "      <th>6</th>\n",
              "      <td>abc pharma</td>\n",
              "      <td>sales executive</td>\n",
              "      <td>masters</td>\n",
              "      <td>0</td>\n",
              "    </tr>\n",
              "    <tr>\n",
              "      <th>7</th>\n",
              "      <td>abc pharma</td>\n",
              "      <td>computer programmer</td>\n",
              "      <td>bachelors</td>\n",
              "      <td>0</td>\n",
              "    </tr>\n",
              "    <tr>\n",
              "      <th>8</th>\n",
              "      <td>abc pharma</td>\n",
              "      <td>business manager</td>\n",
              "      <td>bachelors</td>\n",
              "      <td>0</td>\n",
              "    </tr>\n",
              "    <tr>\n",
              "      <th>9</th>\n",
              "      <td>abc pharma</td>\n",
              "      <td>business manager</td>\n",
              "      <td>masters</td>\n",
              "      <td>1</td>\n",
              "    </tr>\n",
              "    <tr>\n",
              "      <th>10</th>\n",
              "      <td>facebook</td>\n",
              "      <td>sales executive</td>\n",
              "      <td>bachelors</td>\n",
              "      <td>1</td>\n",
              "    </tr>\n",
              "    <tr>\n",
              "      <th>11</th>\n",
              "      <td>facebook</td>\n",
              "      <td>sales executive</td>\n",
              "      <td>masters</td>\n",
              "      <td>1</td>\n",
              "    </tr>\n",
              "    <tr>\n",
              "      <th>12</th>\n",
              "      <td>facebook</td>\n",
              "      <td>business manager</td>\n",
              "      <td>bachelors</td>\n",
              "      <td>1</td>\n",
              "    </tr>\n",
              "    <tr>\n",
              "      <th>13</th>\n",
              "      <td>facebook</td>\n",
              "      <td>business manager</td>\n",
              "      <td>masters</td>\n",
              "      <td>1</td>\n",
              "    </tr>\n",
              "    <tr>\n",
              "      <th>14</th>\n",
              "      <td>facebook</td>\n",
              "      <td>computer programmer</td>\n",
              "      <td>bachelors</td>\n",
              "      <td>1</td>\n",
              "    </tr>\n",
              "    <tr>\n",
              "      <th>15</th>\n",
              "      <td>facebook</td>\n",
              "      <td>computer programmer</td>\n",
              "      <td>masters</td>\n",
              "      <td>1</td>\n",
              "    </tr>\n",
              "  </tbody>\n",
              "</table>\n",
              "</div>"
            ],
            "text/plain": [
              "       company                  job     degree  salary_more_then_100k\n",
              "0       google      sales executive  bachelors                      0\n",
              "1       google      sales executive    masters                      0\n",
              "2       google     business manager  bachelors                      1\n",
              "3       google     business manager    masters                      1\n",
              "4       google  computer programmer  bachelors                      0\n",
              "5       google  computer programmer    masters                      1\n",
              "6   abc pharma      sales executive    masters                      0\n",
              "7   abc pharma  computer programmer  bachelors                      0\n",
              "8   abc pharma     business manager  bachelors                      0\n",
              "9   abc pharma     business manager    masters                      1\n",
              "10    facebook      sales executive  bachelors                      1\n",
              "11    facebook      sales executive    masters                      1\n",
              "12    facebook     business manager  bachelors                      1\n",
              "13    facebook     business manager    masters                      1\n",
              "14    facebook  computer programmer  bachelors                      1\n",
              "15    facebook  computer programmer    masters                      1"
            ]
          },
          "metadata": {
            "tags": []
          },
          "execution_count": 31
        }
      ]
    },
    {
      "cell_type": "code",
      "metadata": {
        "id": "b4BMZGQJBikV",
        "colab_type": "code",
        "colab": {}
      },
      "source": [
        "from sklearn.tree import DecisionTreeClassifier"
      ],
      "execution_count": 0,
      "outputs": []
    },
    {
      "cell_type": "code",
      "metadata": {
        "id": "x9MF8yneB9JS",
        "colab_type": "code",
        "colab": {
          "base_uri": "https://localhost:8080/",
          "height": 529
        },
        "outputId": "cefe1f8b-909d-4c74-bb59-206b299dbf1c"
      },
      "source": [
        "features=df.drop(\"salary_more_then_100k\",axis='columns')\n",
        "features"
      ],
      "execution_count": 33,
      "outputs": [
        {
          "output_type": "execute_result",
          "data": {
            "text/html": [
              "<div>\n",
              "<style scoped>\n",
              "    .dataframe tbody tr th:only-of-type {\n",
              "        vertical-align: middle;\n",
              "    }\n",
              "\n",
              "    .dataframe tbody tr th {\n",
              "        vertical-align: top;\n",
              "    }\n",
              "\n",
              "    .dataframe thead th {\n",
              "        text-align: right;\n",
              "    }\n",
              "</style>\n",
              "<table border=\"1\" class=\"dataframe\">\n",
              "  <thead>\n",
              "    <tr style=\"text-align: right;\">\n",
              "      <th></th>\n",
              "      <th>company</th>\n",
              "      <th>job</th>\n",
              "      <th>degree</th>\n",
              "    </tr>\n",
              "  </thead>\n",
              "  <tbody>\n",
              "    <tr>\n",
              "      <th>0</th>\n",
              "      <td>google</td>\n",
              "      <td>sales executive</td>\n",
              "      <td>bachelors</td>\n",
              "    </tr>\n",
              "    <tr>\n",
              "      <th>1</th>\n",
              "      <td>google</td>\n",
              "      <td>sales executive</td>\n",
              "      <td>masters</td>\n",
              "    </tr>\n",
              "    <tr>\n",
              "      <th>2</th>\n",
              "      <td>google</td>\n",
              "      <td>business manager</td>\n",
              "      <td>bachelors</td>\n",
              "    </tr>\n",
              "    <tr>\n",
              "      <th>3</th>\n",
              "      <td>google</td>\n",
              "      <td>business manager</td>\n",
              "      <td>masters</td>\n",
              "    </tr>\n",
              "    <tr>\n",
              "      <th>4</th>\n",
              "      <td>google</td>\n",
              "      <td>computer programmer</td>\n",
              "      <td>bachelors</td>\n",
              "    </tr>\n",
              "    <tr>\n",
              "      <th>5</th>\n",
              "      <td>google</td>\n",
              "      <td>computer programmer</td>\n",
              "      <td>masters</td>\n",
              "    </tr>\n",
              "    <tr>\n",
              "      <th>6</th>\n",
              "      <td>abc pharma</td>\n",
              "      <td>sales executive</td>\n",
              "      <td>masters</td>\n",
              "    </tr>\n",
              "    <tr>\n",
              "      <th>7</th>\n",
              "      <td>abc pharma</td>\n",
              "      <td>computer programmer</td>\n",
              "      <td>bachelors</td>\n",
              "    </tr>\n",
              "    <tr>\n",
              "      <th>8</th>\n",
              "      <td>abc pharma</td>\n",
              "      <td>business manager</td>\n",
              "      <td>bachelors</td>\n",
              "    </tr>\n",
              "    <tr>\n",
              "      <th>9</th>\n",
              "      <td>abc pharma</td>\n",
              "      <td>business manager</td>\n",
              "      <td>masters</td>\n",
              "    </tr>\n",
              "    <tr>\n",
              "      <th>10</th>\n",
              "      <td>facebook</td>\n",
              "      <td>sales executive</td>\n",
              "      <td>bachelors</td>\n",
              "    </tr>\n",
              "    <tr>\n",
              "      <th>11</th>\n",
              "      <td>facebook</td>\n",
              "      <td>sales executive</td>\n",
              "      <td>masters</td>\n",
              "    </tr>\n",
              "    <tr>\n",
              "      <th>12</th>\n",
              "      <td>facebook</td>\n",
              "      <td>business manager</td>\n",
              "      <td>bachelors</td>\n",
              "    </tr>\n",
              "    <tr>\n",
              "      <th>13</th>\n",
              "      <td>facebook</td>\n",
              "      <td>business manager</td>\n",
              "      <td>masters</td>\n",
              "    </tr>\n",
              "    <tr>\n",
              "      <th>14</th>\n",
              "      <td>facebook</td>\n",
              "      <td>computer programmer</td>\n",
              "      <td>bachelors</td>\n",
              "    </tr>\n",
              "    <tr>\n",
              "      <th>15</th>\n",
              "      <td>facebook</td>\n",
              "      <td>computer programmer</td>\n",
              "      <td>masters</td>\n",
              "    </tr>\n",
              "  </tbody>\n",
              "</table>\n",
              "</div>"
            ],
            "text/plain": [
              "       company                  job     degree\n",
              "0       google      sales executive  bachelors\n",
              "1       google      sales executive    masters\n",
              "2       google     business manager  bachelors\n",
              "3       google     business manager    masters\n",
              "4       google  computer programmer  bachelors\n",
              "5       google  computer programmer    masters\n",
              "6   abc pharma      sales executive    masters\n",
              "7   abc pharma  computer programmer  bachelors\n",
              "8   abc pharma     business manager  bachelors\n",
              "9   abc pharma     business manager    masters\n",
              "10    facebook      sales executive  bachelors\n",
              "11    facebook      sales executive    masters\n",
              "12    facebook     business manager  bachelors\n",
              "13    facebook     business manager    masters\n",
              "14    facebook  computer programmer  bachelors\n",
              "15    facebook  computer programmer    masters"
            ]
          },
          "metadata": {
            "tags": []
          },
          "execution_count": 33
        }
      ]
    },
    {
      "cell_type": "code",
      "metadata": {
        "id": "YsErUGtlC7w9",
        "colab_type": "code",
        "colab": {
          "base_uri": "https://localhost:8080/",
          "height": 311
        },
        "outputId": "82759845-077e-481c-f0ac-5b30e80e99d5"
      },
      "source": [
        "labels=df['salary_more_then_100k']\n",
        "labels"
      ],
      "execution_count": 34,
      "outputs": [
        {
          "output_type": "execute_result",
          "data": {
            "text/plain": [
              "0     0\n",
              "1     0\n",
              "2     1\n",
              "3     1\n",
              "4     0\n",
              "5     1\n",
              "6     0\n",
              "7     0\n",
              "8     0\n",
              "9     1\n",
              "10    1\n",
              "11    1\n",
              "12    1\n",
              "13    1\n",
              "14    1\n",
              "15    1\n",
              "Name: salary_more_then_100k, dtype: int64"
            ]
          },
          "metadata": {
            "tags": []
          },
          "execution_count": 34
        }
      ]
    },
    {
      "cell_type": "code",
      "metadata": {
        "id": "KrkIhtGA2C5b",
        "colab_type": "code",
        "colab": {}
      },
      "source": [
        "# sring label convering to  numbers[  int/float  ]\n",
        "from sklearn.preprocessing import LabelEncoder"
      ],
      "execution_count": 0,
      "outputs": []
    },
    {
      "cell_type": "code",
      "metadata": {
        "id": "0iL1sTX82RuT",
        "colab_type": "code",
        "colab": {}
      },
      "source": [
        "num_labeler=LabelEncoder()#this is for company,job,degree  number-labelling"
      ],
      "execution_count": 0,
      "outputs": []
    },
    {
      "cell_type": "code",
      "metadata": {
        "id": "jThCm9334My4",
        "colab_type": "code",
        "colab": {}
      },
      "source": [
        "features.iloc[:,0]=num_labeler.fit_transform(features.iloc[:,0])#for numeric labelling of the company-coulumn\n",
        "features.iloc[:,1]=num_labeler.fit_transform(features.iloc[:,1])#similarly for job coulumn\n",
        "features.iloc[:,2]=num_labeler.fit_transform(features.iloc[:,2])#similarly for degree coulimn"
      ],
      "execution_count": 0,
      "outputs": []
    },
    {
      "cell_type": "code",
      "metadata": {
        "id": "IWRUHfxE6smE",
        "colab_type": "code",
        "colab": {
          "base_uri": "https://localhost:8080/",
          "height": 529
        },
        "outputId": "0779c128-1775-41e2-c278-0b53d0eb8272"
      },
      "source": [
        "features#for checking "
      ],
      "execution_count": 37,
      "outputs": [
        {
          "output_type": "execute_result",
          "data": {
            "text/html": [
              "<div>\n",
              "<style scoped>\n",
              "    .dataframe tbody tr th:only-of-type {\n",
              "        vertical-align: middle;\n",
              "    }\n",
              "\n",
              "    .dataframe tbody tr th {\n",
              "        vertical-align: top;\n",
              "    }\n",
              "\n",
              "    .dataframe thead th {\n",
              "        text-align: right;\n",
              "    }\n",
              "</style>\n",
              "<table border=\"1\" class=\"dataframe\">\n",
              "  <thead>\n",
              "    <tr style=\"text-align: right;\">\n",
              "      <th></th>\n",
              "      <th>company</th>\n",
              "      <th>job</th>\n",
              "      <th>degree</th>\n",
              "    </tr>\n",
              "  </thead>\n",
              "  <tbody>\n",
              "    <tr>\n",
              "      <th>0</th>\n",
              "      <td>2</td>\n",
              "      <td>2</td>\n",
              "      <td>0</td>\n",
              "    </tr>\n",
              "    <tr>\n",
              "      <th>1</th>\n",
              "      <td>2</td>\n",
              "      <td>2</td>\n",
              "      <td>1</td>\n",
              "    </tr>\n",
              "    <tr>\n",
              "      <th>2</th>\n",
              "      <td>2</td>\n",
              "      <td>0</td>\n",
              "      <td>0</td>\n",
              "    </tr>\n",
              "    <tr>\n",
              "      <th>3</th>\n",
              "      <td>2</td>\n",
              "      <td>0</td>\n",
              "      <td>1</td>\n",
              "    </tr>\n",
              "    <tr>\n",
              "      <th>4</th>\n",
              "      <td>2</td>\n",
              "      <td>1</td>\n",
              "      <td>0</td>\n",
              "    </tr>\n",
              "    <tr>\n",
              "      <th>5</th>\n",
              "      <td>2</td>\n",
              "      <td>1</td>\n",
              "      <td>1</td>\n",
              "    </tr>\n",
              "    <tr>\n",
              "      <th>6</th>\n",
              "      <td>0</td>\n",
              "      <td>2</td>\n",
              "      <td>1</td>\n",
              "    </tr>\n",
              "    <tr>\n",
              "      <th>7</th>\n",
              "      <td>0</td>\n",
              "      <td>1</td>\n",
              "      <td>0</td>\n",
              "    </tr>\n",
              "    <tr>\n",
              "      <th>8</th>\n",
              "      <td>0</td>\n",
              "      <td>0</td>\n",
              "      <td>0</td>\n",
              "    </tr>\n",
              "    <tr>\n",
              "      <th>9</th>\n",
              "      <td>0</td>\n",
              "      <td>0</td>\n",
              "      <td>1</td>\n",
              "    </tr>\n",
              "    <tr>\n",
              "      <th>10</th>\n",
              "      <td>1</td>\n",
              "      <td>2</td>\n",
              "      <td>0</td>\n",
              "    </tr>\n",
              "    <tr>\n",
              "      <th>11</th>\n",
              "      <td>1</td>\n",
              "      <td>2</td>\n",
              "      <td>1</td>\n",
              "    </tr>\n",
              "    <tr>\n",
              "      <th>12</th>\n",
              "      <td>1</td>\n",
              "      <td>0</td>\n",
              "      <td>0</td>\n",
              "    </tr>\n",
              "    <tr>\n",
              "      <th>13</th>\n",
              "      <td>1</td>\n",
              "      <td>0</td>\n",
              "      <td>1</td>\n",
              "    </tr>\n",
              "    <tr>\n",
              "      <th>14</th>\n",
              "      <td>1</td>\n",
              "      <td>1</td>\n",
              "      <td>0</td>\n",
              "    </tr>\n",
              "    <tr>\n",
              "      <th>15</th>\n",
              "      <td>1</td>\n",
              "      <td>1</td>\n",
              "      <td>1</td>\n",
              "    </tr>\n",
              "  </tbody>\n",
              "</table>\n",
              "</div>"
            ],
            "text/plain": [
              "    company  job  degree\n",
              "0         2    2       0\n",
              "1         2    2       1\n",
              "2         2    0       0\n",
              "3         2    0       1\n",
              "4         2    1       0\n",
              "5         2    1       1\n",
              "6         0    2       1\n",
              "7         0    1       0\n",
              "8         0    0       0\n",
              "9         0    0       1\n",
              "10        1    2       0\n",
              "11        1    2       1\n",
              "12        1    0       0\n",
              "13        1    0       1\n",
              "14        1    1       0\n",
              "15        1    1       1"
            ]
          },
          "metadata": {
            "tags": []
          },
          "execution_count": 37
        }
      ]
    },
    {
      "cell_type": "code",
      "metadata": {
        "id": "nT_Nm1t5AA2O",
        "colab_type": "code",
        "colab": {}
      },
      "source": [
        "#splitting datasets into train & test for further evaluation\n",
        "from sklearn.model_selection import train_test_split\n",
        "X_train, X_test, y_train, y_test = train_test_split(features, labels, random_state = 47, test_size = 0.20)"
      ],
      "execution_count": 0,
      "outputs": []
    },
    {
      "cell_type": "code",
      "metadata": {
        "id": "wiP9QHLoDqfP",
        "colab_type": "code",
        "colab": {}
      },
      "source": [
        "#calling decisiontree classifier\n",
        "#Since, this is a classification problem, we will import the DecisionTreeClassifier function from the sklearn library. \n",
        "#Next, we will set the 'criterion' to 'entropy', \n",
        "#which sets the measure for splitting the attribute to information gain.\n",
        "clf=DecisionTreeClassifier(criterion='entropy')"
      ],
      "execution_count": 0,
      "outputs": []
    },
    {
      "cell_type": "code",
      "metadata": {
        "id": "Zvbw8lw1Dx96",
        "colab_type": "code",
        "colab": {}
      },
      "source": [
        "trained=clf.fit(X_train,y_train)#finally feed data"
      ],
      "execution_count": 0,
      "outputs": []
    },
    {
      "cell_type": "code",
      "metadata": {
        "id": "yDjTNa5GCGEI",
        "colab_type": "code",
        "colab": {
          "base_uri": "https://localhost:8080/",
          "height": 141
        },
        "outputId": "850f5be3-95a5-4e29-a6fb-1589b29bc1a2"
      },
      "source": [
        "print(X_test)\n",
        "#shows\n",
        "\"\"\"\n",
        "    #company        #job                 #degree\n",
        "    google    computer programmer      bachelors\n",
        "    facebook  computer programmer      bachelors\n",
        "    google    bussiness manager        bachelors\n",
        "    facebook  sales executive          masters\n",
        "    \"\"\""
      ],
      "execution_count": 49,
      "outputs": [
        {
          "output_type": "stream",
          "text": [
            "    company  job  degree\n",
            "4         2    1       0\n",
            "14        1    1       0\n",
            "2         2    0       0\n",
            "11        1    2       1\n"
          ],
          "name": "stdout"
        },
        {
          "output_type": "execute_result",
          "data": {
            "text/plain": [
              "'\\n    #company        #job                 #degree\\n    google    computer programmer      bachelors\\n    facebook  computer programmer      bachelors\\n    google    bussiness manager        bachelors\\n    facebook  sales executive          masters\\n    '"
            ]
          },
          "metadata": {
            "tags": []
          },
          "execution_count": 49
        }
      ]
    },
    {
      "cell_type": "code",
      "metadata": {
        "id": "300K6MaB9UE3",
        "colab_type": "code",
        "colab": {
          "base_uri": "https://localhost:8080/",
          "height": 34
        },
        "outputId": "792323eb-f102-4cb2-bbff-59640b5ec816"
      },
      "source": [
        "#now predict with test_features\n",
        "predicted_100k=trained.predict( X_test)\n",
        "predicted_100k   #algo-answer"
      ],
      "execution_count": 51,
      "outputs": [
        {
          "output_type": "execute_result",
          "data": {
            "text/plain": [
              "array([1, 1, 1, 0])"
            ]
          },
          "metadata": {
            "tags": []
          },
          "execution_count": 51
        }
      ]
    },
    {
      "cell_type": "code",
      "metadata": {
        "id": "pCz5af7DEJyG",
        "colab_type": "code",
        "colab": {
          "base_uri": "https://localhost:8080/",
          "height": 52
        },
        "outputId": "0ee911e3-b1b2-4f4f-d8ae-6a585a206957"
      },
      "source": [
        "#evaluation of decision-trained model\n",
        "from sklearn.metrics import accuracy_score\n",
        "\n",
        "#find accuracy score\n",
        "print('Accuracy Score on train data: ' ,accuracy_score(y_test,predicted_100k))\n",
        "print('Accuracy Score on train data: ', accuracy_score(y_true=y_train, y_pred=clf.predict(X_train)))\n"
      ],
      "execution_count": 57,
      "outputs": [
        {
          "output_type": "stream",
          "text": [
            "Accuracy Score on train data:  0.5\n",
            "Accuracy Score on train data:  1.0\n"
          ],
          "name": "stdout"
        }
      ]
    },
    {
      "cell_type": "code",
      "metadata": {
        "id": "k5W1Cw67FQiH",
        "colab_type": "code",
        "colab": {}
      },
      "source": [
        "#conclusion\n",
        "#above model is high bias and low varience\n",
        "\"\"\"If our model is too simple and has very few parameters \n",
        "then it may have high bias and low variance. \n",
        "On the other hand if our model has large number of parameters \n",
        "then it’s going to have high variance and low bias. \n",
        "So we need to find the right/good balance without overfitting and underfitting the data.\"\"\""
      ],
      "execution_count": 0,
      "outputs": []
    }
  ]
}