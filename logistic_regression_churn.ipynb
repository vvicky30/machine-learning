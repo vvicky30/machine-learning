{
  "nbformat": 4,
  "nbformat_minor": 0,
  "metadata": {
    "colab": {
      "name": "logistic_regression_churn.ipynb",
      "provenance": [],
      "authorship_tag": "ABX9TyNEHZ2BEfmjBUF/DB1c+ySk",
      "include_colab_link": true
    },
    "kernelspec": {
      "name": "python3",
      "display_name": "Python 3"
    }
  },
  "cells": [
    {
      "cell_type": "markdown",
      "metadata": {
        "id": "view-in-github",
        "colab_type": "text"
      },
      "source": [
        "<a href=\"https://colab.research.google.com/github/vvicky30/machine-learning/blob/supervised-ml/logistic_regression_churn.ipynb\" target=\"_parent\"><img src=\"https://colab.research.google.com/assets/colab-badge.svg\" alt=\"Open In Colab\"/></a>"
      ]
    },
    {
      "cell_type": "code",
      "metadata": {
        "id": "d7mUgyQiDb1a",
        "colab_type": "code",
        "colab": {}
      },
      "source": [
        "#Customer churn with Logistic Regression\n",
        "\"\"\"\n",
        "A telecommunications company is concerned about the number of customers leaving their land-line business for cable competitors. \n",
        "They need to understand who is leaving. Imagine that you are an analyst at this company and you have to find out who is leaving and why.\n",
        "\n",
        "Lets first import required libraries:\n",
        "\"\"\"\n",
        "import pandas as pd\n",
        "import pylab as pl\n",
        "import numpy as np\n",
        "import scipy.optimize as opt\n",
        "from sklearn import preprocessing\n",
        "%matplotlib inline \n",
        "import matplotlib.pyplot as plt"
      ],
      "execution_count": 0,
      "outputs": []
    },
    {
      "cell_type": "code",
      "metadata": {
        "id": "20uu77RHD-ti",
        "colab_type": "code",
        "colab": {
          "base_uri": "https://localhost:8080/",
          "height": 201
        },
        "outputId": "81c7333c-e2fb-4cda-adf9-a9217536b0a0"
      },
      "source": [
        "#Click here and press Shift+Enter\n",
        "!wget -O ChurnData.csv https://s3-api.us-geo.objectstorage.softlayer.net/cf-courses-data/CognitiveClass/ML0101ENv3/labs/ChurnData.csv"
      ],
      "execution_count": 3,
      "outputs": [
        {
          "output_type": "stream",
          "text": [
            "--2020-02-09 17:47:31--  https://s3-api.us-geo.objectstorage.softlayer.net/cf-courses-data/CognitiveClass/ML0101ENv3/labs/ChurnData.csv\n",
            "Resolving s3-api.us-geo.objectstorage.softlayer.net (s3-api.us-geo.objectstorage.softlayer.net)... 67.228.254.196\n",
            "Connecting to s3-api.us-geo.objectstorage.softlayer.net (s3-api.us-geo.objectstorage.softlayer.net)|67.228.254.196|:443... connected.\n",
            "HTTP request sent, awaiting response... 200 OK\n",
            "Length: 36144 (35K) [text/csv]\n",
            "Saving to: ‘ChurnData.csv’\n",
            "\n",
            "\rChurnData.csv         0%[                    ]       0  --.-KB/s               \rChurnData.csv       100%[===================>]  35.30K  --.-KB/s    in 0.02s   \n",
            "\n",
            "2020-02-09 17:47:31 (1.40 MB/s) - ‘ChurnData.csv’ saved [36144/36144]\n",
            "\n"
          ],
          "name": "stdout"
        }
      ]
    },
    {
      "cell_type": "code",
      "metadata": {
        "id": "UeyJ-pQQED3Z",
        "colab_type": "code",
        "colab": {
          "base_uri": "https://localhost:8080/",
          "height": 216
        },
        "outputId": "0b6f63f3-06a0-4ad4-8d7a-c41f4a457a33"
      },
      "source": [
        "#Load Data From CSV File\n",
        "churn_df = pd.read_csv(\"ChurnData.csv\")\n",
        "churn_df.head()"
      ],
      "execution_count": 4,
      "outputs": [
        {
          "output_type": "execute_result",
          "data": {
            "text/html": [
              "<div>\n",
              "<style scoped>\n",
              "    .dataframe tbody tr th:only-of-type {\n",
              "        vertical-align: middle;\n",
              "    }\n",
              "\n",
              "    .dataframe tbody tr th {\n",
              "        vertical-align: top;\n",
              "    }\n",
              "\n",
              "    .dataframe thead th {\n",
              "        text-align: right;\n",
              "    }\n",
              "</style>\n",
              "<table border=\"1\" class=\"dataframe\">\n",
              "  <thead>\n",
              "    <tr style=\"text-align: right;\">\n",
              "      <th></th>\n",
              "      <th>tenure</th>\n",
              "      <th>age</th>\n",
              "      <th>address</th>\n",
              "      <th>income</th>\n",
              "      <th>ed</th>\n",
              "      <th>employ</th>\n",
              "      <th>equip</th>\n",
              "      <th>callcard</th>\n",
              "      <th>wireless</th>\n",
              "      <th>longmon</th>\n",
              "      <th>tollmon</th>\n",
              "      <th>equipmon</th>\n",
              "      <th>cardmon</th>\n",
              "      <th>wiremon</th>\n",
              "      <th>longten</th>\n",
              "      <th>tollten</th>\n",
              "      <th>cardten</th>\n",
              "      <th>voice</th>\n",
              "      <th>pager</th>\n",
              "      <th>internet</th>\n",
              "      <th>callwait</th>\n",
              "      <th>confer</th>\n",
              "      <th>ebill</th>\n",
              "      <th>loglong</th>\n",
              "      <th>logtoll</th>\n",
              "      <th>lninc</th>\n",
              "      <th>custcat</th>\n",
              "      <th>churn</th>\n",
              "    </tr>\n",
              "  </thead>\n",
              "  <tbody>\n",
              "    <tr>\n",
              "      <th>0</th>\n",
              "      <td>11.0</td>\n",
              "      <td>33.0</td>\n",
              "      <td>7.0</td>\n",
              "      <td>136.0</td>\n",
              "      <td>5.0</td>\n",
              "      <td>5.0</td>\n",
              "      <td>0.0</td>\n",
              "      <td>1.0</td>\n",
              "      <td>1.0</td>\n",
              "      <td>4.40</td>\n",
              "      <td>20.75</td>\n",
              "      <td>0.0</td>\n",
              "      <td>15.25</td>\n",
              "      <td>35.7</td>\n",
              "      <td>42.00</td>\n",
              "      <td>211.45</td>\n",
              "      <td>125.0</td>\n",
              "      <td>1.0</td>\n",
              "      <td>1.0</td>\n",
              "      <td>0.0</td>\n",
              "      <td>1.0</td>\n",
              "      <td>1.0</td>\n",
              "      <td>0.0</td>\n",
              "      <td>1.482</td>\n",
              "      <td>3.033</td>\n",
              "      <td>4.913</td>\n",
              "      <td>4.0</td>\n",
              "      <td>1.0</td>\n",
              "    </tr>\n",
              "    <tr>\n",
              "      <th>1</th>\n",
              "      <td>33.0</td>\n",
              "      <td>33.0</td>\n",
              "      <td>12.0</td>\n",
              "      <td>33.0</td>\n",
              "      <td>2.0</td>\n",
              "      <td>0.0</td>\n",
              "      <td>0.0</td>\n",
              "      <td>0.0</td>\n",
              "      <td>0.0</td>\n",
              "      <td>9.45</td>\n",
              "      <td>0.00</td>\n",
              "      <td>0.0</td>\n",
              "      <td>0.00</td>\n",
              "      <td>0.0</td>\n",
              "      <td>288.80</td>\n",
              "      <td>0.00</td>\n",
              "      <td>0.0</td>\n",
              "      <td>0.0</td>\n",
              "      <td>0.0</td>\n",
              "      <td>0.0</td>\n",
              "      <td>0.0</td>\n",
              "      <td>0.0</td>\n",
              "      <td>0.0</td>\n",
              "      <td>2.246</td>\n",
              "      <td>3.240</td>\n",
              "      <td>3.497</td>\n",
              "      <td>1.0</td>\n",
              "      <td>1.0</td>\n",
              "    </tr>\n",
              "    <tr>\n",
              "      <th>2</th>\n",
              "      <td>23.0</td>\n",
              "      <td>30.0</td>\n",
              "      <td>9.0</td>\n",
              "      <td>30.0</td>\n",
              "      <td>1.0</td>\n",
              "      <td>2.0</td>\n",
              "      <td>0.0</td>\n",
              "      <td>0.0</td>\n",
              "      <td>0.0</td>\n",
              "      <td>6.30</td>\n",
              "      <td>0.00</td>\n",
              "      <td>0.0</td>\n",
              "      <td>0.00</td>\n",
              "      <td>0.0</td>\n",
              "      <td>157.05</td>\n",
              "      <td>0.00</td>\n",
              "      <td>0.0</td>\n",
              "      <td>0.0</td>\n",
              "      <td>0.0</td>\n",
              "      <td>0.0</td>\n",
              "      <td>0.0</td>\n",
              "      <td>1.0</td>\n",
              "      <td>0.0</td>\n",
              "      <td>1.841</td>\n",
              "      <td>3.240</td>\n",
              "      <td>3.401</td>\n",
              "      <td>3.0</td>\n",
              "      <td>0.0</td>\n",
              "    </tr>\n",
              "    <tr>\n",
              "      <th>3</th>\n",
              "      <td>38.0</td>\n",
              "      <td>35.0</td>\n",
              "      <td>5.0</td>\n",
              "      <td>76.0</td>\n",
              "      <td>2.0</td>\n",
              "      <td>10.0</td>\n",
              "      <td>1.0</td>\n",
              "      <td>1.0</td>\n",
              "      <td>1.0</td>\n",
              "      <td>6.05</td>\n",
              "      <td>45.00</td>\n",
              "      <td>50.1</td>\n",
              "      <td>23.25</td>\n",
              "      <td>64.9</td>\n",
              "      <td>239.55</td>\n",
              "      <td>1873.05</td>\n",
              "      <td>880.0</td>\n",
              "      <td>1.0</td>\n",
              "      <td>1.0</td>\n",
              "      <td>1.0</td>\n",
              "      <td>1.0</td>\n",
              "      <td>1.0</td>\n",
              "      <td>1.0</td>\n",
              "      <td>1.800</td>\n",
              "      <td>3.807</td>\n",
              "      <td>4.331</td>\n",
              "      <td>4.0</td>\n",
              "      <td>0.0</td>\n",
              "    </tr>\n",
              "    <tr>\n",
              "      <th>4</th>\n",
              "      <td>7.0</td>\n",
              "      <td>35.0</td>\n",
              "      <td>14.0</td>\n",
              "      <td>80.0</td>\n",
              "      <td>2.0</td>\n",
              "      <td>15.0</td>\n",
              "      <td>0.0</td>\n",
              "      <td>1.0</td>\n",
              "      <td>0.0</td>\n",
              "      <td>7.10</td>\n",
              "      <td>22.00</td>\n",
              "      <td>0.0</td>\n",
              "      <td>23.75</td>\n",
              "      <td>0.0</td>\n",
              "      <td>47.45</td>\n",
              "      <td>166.10</td>\n",
              "      <td>145.0</td>\n",
              "      <td>1.0</td>\n",
              "      <td>0.0</td>\n",
              "      <td>0.0</td>\n",
              "      <td>1.0</td>\n",
              "      <td>1.0</td>\n",
              "      <td>0.0</td>\n",
              "      <td>1.960</td>\n",
              "      <td>3.091</td>\n",
              "      <td>4.382</td>\n",
              "      <td>3.0</td>\n",
              "      <td>0.0</td>\n",
              "    </tr>\n",
              "  </tbody>\n",
              "</table>\n",
              "</div>"
            ],
            "text/plain": [
              "   tenure   age  address  income   ed  ...  loglong  logtoll  lninc  custcat  churn\n",
              "0    11.0  33.0      7.0   136.0  5.0  ...    1.482    3.033  4.913      4.0    1.0\n",
              "1    33.0  33.0     12.0    33.0  2.0  ...    2.246    3.240  3.497      1.0    1.0\n",
              "2    23.0  30.0      9.0    30.0  1.0  ...    1.841    3.240  3.401      3.0    0.0\n",
              "3    38.0  35.0      5.0    76.0  2.0  ...    1.800    3.807  4.331      4.0    0.0\n",
              "4     7.0  35.0     14.0    80.0  2.0  ...    1.960    3.091  4.382      3.0    0.0\n",
              "\n",
              "[5 rows x 28 columns]"
            ]
          },
          "metadata": {
            "tags": []
          },
          "execution_count": 4
        }
      ]
    },
    {
      "cell_type": "code",
      "metadata": {
        "id": "58Qe-cBoEH74",
        "colab_type": "code",
        "colab": {
          "base_uri": "https://localhost:8080/",
          "height": 196
        },
        "outputId": "6a1d949f-a556-4235-ab1e-4d235e85004e"
      },
      "source": [
        "#Data pre-processing and selection\n",
        "#Lets select some features for the modeling. Also we change the target data type to be integer, as it is a requirement by the skitlearn algorithm:\n",
        "\n",
        "churn_df = churn_df[['tenure', 'age', 'address', 'income', 'ed', 'employ', 'equip',   'callcard', 'wireless','churn']]\n",
        "churn_df['churn'] = churn_df['churn'].astype('int')#convert  target to the integer-type\n",
        "churn_df.head()"
      ],
      "execution_count": 6,
      "outputs": [
        {
          "output_type": "execute_result",
          "data": {
            "text/html": [
              "<div>\n",
              "<style scoped>\n",
              "    .dataframe tbody tr th:only-of-type {\n",
              "        vertical-align: middle;\n",
              "    }\n",
              "\n",
              "    .dataframe tbody tr th {\n",
              "        vertical-align: top;\n",
              "    }\n",
              "\n",
              "    .dataframe thead th {\n",
              "        text-align: right;\n",
              "    }\n",
              "</style>\n",
              "<table border=\"1\" class=\"dataframe\">\n",
              "  <thead>\n",
              "    <tr style=\"text-align: right;\">\n",
              "      <th></th>\n",
              "      <th>tenure</th>\n",
              "      <th>age</th>\n",
              "      <th>address</th>\n",
              "      <th>income</th>\n",
              "      <th>ed</th>\n",
              "      <th>employ</th>\n",
              "      <th>equip</th>\n",
              "      <th>callcard</th>\n",
              "      <th>wireless</th>\n",
              "      <th>churn</th>\n",
              "    </tr>\n",
              "  </thead>\n",
              "  <tbody>\n",
              "    <tr>\n",
              "      <th>0</th>\n",
              "      <td>11.0</td>\n",
              "      <td>33.0</td>\n",
              "      <td>7.0</td>\n",
              "      <td>136.0</td>\n",
              "      <td>5.0</td>\n",
              "      <td>5.0</td>\n",
              "      <td>0.0</td>\n",
              "      <td>1.0</td>\n",
              "      <td>1.0</td>\n",
              "      <td>1</td>\n",
              "    </tr>\n",
              "    <tr>\n",
              "      <th>1</th>\n",
              "      <td>33.0</td>\n",
              "      <td>33.0</td>\n",
              "      <td>12.0</td>\n",
              "      <td>33.0</td>\n",
              "      <td>2.0</td>\n",
              "      <td>0.0</td>\n",
              "      <td>0.0</td>\n",
              "      <td>0.0</td>\n",
              "      <td>0.0</td>\n",
              "      <td>1</td>\n",
              "    </tr>\n",
              "    <tr>\n",
              "      <th>2</th>\n",
              "      <td>23.0</td>\n",
              "      <td>30.0</td>\n",
              "      <td>9.0</td>\n",
              "      <td>30.0</td>\n",
              "      <td>1.0</td>\n",
              "      <td>2.0</td>\n",
              "      <td>0.0</td>\n",
              "      <td>0.0</td>\n",
              "      <td>0.0</td>\n",
              "      <td>0</td>\n",
              "    </tr>\n",
              "    <tr>\n",
              "      <th>3</th>\n",
              "      <td>38.0</td>\n",
              "      <td>35.0</td>\n",
              "      <td>5.0</td>\n",
              "      <td>76.0</td>\n",
              "      <td>2.0</td>\n",
              "      <td>10.0</td>\n",
              "      <td>1.0</td>\n",
              "      <td>1.0</td>\n",
              "      <td>1.0</td>\n",
              "      <td>0</td>\n",
              "    </tr>\n",
              "    <tr>\n",
              "      <th>4</th>\n",
              "      <td>7.0</td>\n",
              "      <td>35.0</td>\n",
              "      <td>14.0</td>\n",
              "      <td>80.0</td>\n",
              "      <td>2.0</td>\n",
              "      <td>15.0</td>\n",
              "      <td>0.0</td>\n",
              "      <td>1.0</td>\n",
              "      <td>0.0</td>\n",
              "      <td>0</td>\n",
              "    </tr>\n",
              "  </tbody>\n",
              "</table>\n",
              "</div>"
            ],
            "text/plain": [
              "   tenure   age  address  income   ed  employ  equip  callcard  wireless  churn\n",
              "0    11.0  33.0      7.0   136.0  5.0     5.0    0.0       1.0       1.0      1\n",
              "1    33.0  33.0     12.0    33.0  2.0     0.0    0.0       0.0       0.0      1\n",
              "2    23.0  30.0      9.0    30.0  1.0     2.0    0.0       0.0       0.0      0\n",
              "3    38.0  35.0      5.0    76.0  2.0    10.0    1.0       1.0       1.0      0\n",
              "4     7.0  35.0     14.0    80.0  2.0    15.0    0.0       1.0       0.0      0"
            ]
          },
          "metadata": {
            "tags": []
          },
          "execution_count": 6
        }
      ]
    },
    {
      "cell_type": "code",
      "metadata": {
        "id": "WXSuHvegEx6J",
        "colab_type": "code",
        "colab": {
          "base_uri": "https://localhost:8080/",
          "height": 84
        },
        "outputId": "b9d0ee01-9c3e-4e59-f38a-6d90fd0bd407"
      },
      "source": [
        "# write your code here\n",
        "print(churn_df.shape)\n",
        "print(churn_df.columns)"
      ],
      "execution_count": 10,
      "outputs": [
        {
          "output_type": "stream",
          "text": [
            "(200, 10)\n",
            "Index(['tenure', 'age', 'address', 'income', 'ed', 'employ', 'equip',\n",
            "       'callcard', 'wireless', 'churn'],\n",
            "      dtype='object')\n"
          ],
          "name": "stdout"
        }
      ]
    },
    {
      "cell_type": "code",
      "metadata": {
        "id": "IA_u5BIfEzBF",
        "colab_type": "code",
        "colab": {
          "base_uri": "https://localhost:8080/",
          "height": 117
        },
        "outputId": "de081ce7-d8ee-489b-d935-d85a9ee65f3a"
      },
      "source": [
        "#Lets define X, and y for our dataset:\n",
        "\n",
        "X = np.asarray(churn_df[['tenure', 'age', 'address', 'income', 'ed', 'employ', 'equip']])\n",
        "print(\"x:-\",X[0:5])\n",
        "y = np.asarray(churn_df['churn'])\n",
        "print(\"y:-\",y [0:5])"
      ],
      "execution_count": 12,
      "outputs": [
        {
          "output_type": "stream",
          "text": [
            "x:- [[ 11.  33.   7. 136.   5.   5.   0.]\n",
            " [ 33.  33.  12.  33.   2.   0.   0.]\n",
            " [ 23.  30.   9.  30.   1.   2.   0.]\n",
            " [ 38.  35.   5.  76.   2.  10.   1.]\n",
            " [  7.  35.  14.  80.   2.  15.   0.]]\n",
            "y:- [1 1 0 0 0]\n"
          ],
          "name": "stdout"
        }
      ]
    },
    {
      "cell_type": "code",
      "metadata": {
        "id": "2jrHPgl6FUko",
        "colab_type": "code",
        "colab": {
          "base_uri": "https://localhost:8080/",
          "height": 184
        },
        "outputId": "932d968f-41f7-4fb3-fdd3-11f0536b26c9"
      },
      "source": [
        "#also, we normalize the dataset:\n",
        "\n",
        "from sklearn import preprocessing\n",
        "X = preprocessing.StandardScaler().fit(X).transform(X)\n",
        "X[0:5]"
      ],
      "execution_count": 13,
      "outputs": [
        {
          "output_type": "execute_result",
          "data": {
            "text/plain": [
              "array([[-1.13518441, -0.62595491, -0.4588971 ,  0.4751423 ,  1.6961288 ,\n",
              "        -0.58477841, -0.85972695],\n",
              "       [-0.11604313, -0.62595491,  0.03454064, -0.32886061, -0.6433592 ,\n",
              "        -1.14437497, -0.85972695],\n",
              "       [-0.57928917, -0.85594447, -0.261522  , -0.35227817, -1.42318853,\n",
              "        -0.92053635, -0.85972695],\n",
              "       [ 0.11557989, -0.47262854, -0.65627219,  0.00679109, -0.6433592 ,\n",
              "        -0.02518185,  1.16316   ],\n",
              "       [-1.32048283, -0.47262854,  0.23191574,  0.03801451, -0.6433592 ,\n",
              "         0.53441472, -0.85972695]])"
            ]
          },
          "metadata": {
            "tags": []
          },
          "execution_count": 13
        }
      ]
    },
    {
      "cell_type": "code",
      "metadata": {
        "id": "j3lnTRBfGmv4",
        "colab_type": "code",
        "colab": {
          "base_uri": "https://localhost:8080/",
          "height": 50
        },
        "outputId": "ca353ca7-cd52-43ee-8bd9-e553086a9654"
      },
      "source": [
        "#Train/Test dataset\n",
        "#Okay, we split our dataset into train and test set:\n",
        "\n",
        "from sklearn.model_selection import train_test_split\n",
        "X_train, X_test, y_train, y_test = train_test_split( X, y, test_size=0.2, random_state=4)\n",
        "print ('Train set:', X_train.shape,  y_train.shape)\n",
        "print ('Test set:', X_test.shape,  y_test.shape)"
      ],
      "execution_count": 15,
      "outputs": [
        {
          "output_type": "stream",
          "text": [
            "Train set: (160, 7) (160,)\n",
            "Test set: (40, 7) (40,)\n"
          ],
          "name": "stdout"
        }
      ]
    },
    {
      "cell_type": "code",
      "metadata": {
        "id": "CpxUoRlCFm2X",
        "colab_type": "code",
        "colab": {
          "base_uri": "https://localhost:8080/",
          "height": 100
        },
        "outputId": "a1c651c2-9f78-480f-9c6f-c0893faa925d"
      },
      "source": [
        "\"\"\"\n",
        "Lets build our model using LogisticRegression from Scikit-learn package. \n",
        "This function implements logistic regression and can use different numerical optimizers to find parameters, including:-\n",
        " ### ‘newton-cg’, ‘lbfgs’, ‘liblinear’, ‘sag’, ‘saga’ solvers. \n",
        "\n",
        "The version of Logistic Regression in Scikit-learn, support regularization. \n",
        "Regularization is a technique used to solve the overfitting problem in machine learning models. \n",
        "C parameter indicates inverse of regularization strength which must be a positive float. Smaller values specify stronger regularization. \n",
        "\"\"\"\n",
        "#Now lets fit our model with train set:\n",
        "\n",
        "from sklearn.linear_model import LogisticRegression\n",
        "from sklearn.metrics import confusion_matrix\n",
        "LR = LogisticRegression(C=0.01, solver='liblinear').fit(X_train,y_train)\n",
        "LR"
      ],
      "execution_count": 16,
      "outputs": [
        {
          "output_type": "execute_result",
          "data": {
            "text/plain": [
              "LogisticRegression(C=0.01, class_weight=None, dual=False, fit_intercept=True,\n",
              "                   intercept_scaling=1, l1_ratio=None, max_iter=100,\n",
              "                   multi_class='auto', n_jobs=None, penalty='l2',\n",
              "                   random_state=None, solver='liblinear', tol=0.0001, verbose=0,\n",
              "                   warm_start=False)"
            ]
          },
          "metadata": {
            "tags": []
          },
          "execution_count": 16
        }
      ]
    },
    {
      "cell_type": "code",
      "metadata": {
        "id": "4cNBPXi3GfFu",
        "colab_type": "code",
        "colab": {
          "base_uri": "https://localhost:8080/",
          "height": 50
        },
        "outputId": "34f71d85-724f-4d41-9645-b2962a05015c"
      },
      "source": [
        "#Now we can predict using our test set:\n",
        "\n",
        "yhat = LR.predict(X_test)\n",
        "yhat"
      ],
      "execution_count": 17,
      "outputs": [
        {
          "output_type": "execute_result",
          "data": {
            "text/plain": [
              "array([0, 0, 0, 0, 0, 0, 0, 0, 1, 0, 0, 0, 1, 1, 0, 0, 0, 1, 1, 0, 0, 0,\n",
              "       0, 0, 0, 0, 0, 0, 0, 0, 0, 0, 1, 0, 0, 0, 1, 0, 0, 0])"
            ]
          },
          "metadata": {
            "tags": []
          },
          "execution_count": 17
        }
      ]
    },
    {
      "cell_type": "code",
      "metadata": {
        "id": "Z4hOXzgkG52e",
        "colab_type": "code",
        "colab": {
          "base_uri": "https://localhost:8080/",
          "height": 719
        },
        "outputId": "a852d8e2-e5c4-446b-909e-2f5e759c19fa"
      },
      "source": [
        "#predict_proba returns estimates for all classes, ordered by the label of classes. \n",
        "#So, the first column is the probability of class 1, P(Y=1|X), and second column is probability of class 0, P(Y=0|X):\n",
        "\n",
        "yhat_prob = LR.predict_proba(X_test)\n",
        "print(yhat_prob)\n",
        "print(yhat_prob.shape)#same as x_test ,only coulumns changed as here in probability there are two coulumn for class=1 & class =0\n",
        "print(X_test.shape)#here there are total 7 coulumns corresponds to all 7 features"
      ],
      "execution_count": 23,
      "outputs": [
        {
          "output_type": "stream",
          "text": [
            "[[0.54132919 0.45867081]\n",
            " [0.60593357 0.39406643]\n",
            " [0.56277713 0.43722287]\n",
            " [0.63432489 0.36567511]\n",
            " [0.56431839 0.43568161]\n",
            " [0.55386646 0.44613354]\n",
            " [0.52237207 0.47762793]\n",
            " [0.60514349 0.39485651]\n",
            " [0.41069572 0.58930428]\n",
            " [0.6333873  0.3666127 ]\n",
            " [0.58068791 0.41931209]\n",
            " [0.62768628 0.37231372]\n",
            " [0.47559883 0.52440117]\n",
            " [0.4267593  0.5732407 ]\n",
            " [0.66172417 0.33827583]\n",
            " [0.55092315 0.44907685]\n",
            " [0.51749946 0.48250054]\n",
            " [0.485743   0.514257  ]\n",
            " [0.49011451 0.50988549]\n",
            " [0.52423349 0.47576651]\n",
            " [0.61619519 0.38380481]\n",
            " [0.52696302 0.47303698]\n",
            " [0.63957168 0.36042832]\n",
            " [0.52205164 0.47794836]\n",
            " [0.50572852 0.49427148]\n",
            " [0.70706202 0.29293798]\n",
            " [0.55266286 0.44733714]\n",
            " [0.52271594 0.47728406]\n",
            " [0.51638863 0.48361137]\n",
            " [0.71331391 0.28668609]\n",
            " [0.67862111 0.32137889]\n",
            " [0.50896403 0.49103597]\n",
            " [0.42348082 0.57651918]\n",
            " [0.71495838 0.28504162]\n",
            " [0.59711064 0.40288936]\n",
            " [0.63808839 0.36191161]\n",
            " [0.39957895 0.60042105]\n",
            " [0.52127638 0.47872362]\n",
            " [0.65975464 0.34024536]\n",
            " [0.5114172  0.4885828 ]]\n",
            "(40, 2)\n",
            "(40, 7)\n"
          ],
          "name": "stdout"
        }
      ]
    },
    {
      "cell_type": "code",
      "metadata": {
        "id": "-mdHSz3mHyT3",
        "colab_type": "code",
        "colab": {
          "base_uri": "https://localhost:8080/",
          "height": 87
        },
        "outputId": "e1913489-90cc-4322-eced-f1665e13fc35"
      },
      "source": [
        "#Evaluation\n",
        "\"\"\"jaccard index\n",
        "Lets try jaccard index for accuracy evaluation. we can define jaccard as the size of the intersection divided by the size of the union of two label sets. \n",
        "If the entire set of predicted labels for a sample strictly match with the true set of labels, then the subset accuracy is 1.0; otherwise it is 0.0.\n",
        "\"\"\"\n",
        "from sklearn.metrics import jaccard_similarity_score\n",
        "print(\"accuracy of model\",jaccard_similarity_score(y_test, yhat))"
      ],
      "execution_count": 28,
      "outputs": [
        {
          "output_type": "stream",
          "text": [
            "accuracy of model 0.75\n"
          ],
          "name": "stdout"
        },
        {
          "output_type": "stream",
          "text": [
            "/usr/local/lib/python3.6/dist-packages/sklearn/metrics/_classification.py:664: FutureWarning: jaccard_similarity_score has been deprecated and replaced with jaccard_score. It will be removed in version 0.23. This implementation has surprising behavior for binary and multiclass classification tasks.\n",
            "  FutureWarning)\n"
          ],
          "name": "stderr"
        }
      ]
    },
    {
      "cell_type": "code",
      "metadata": {
        "id": "EqfO5KqoIs8S",
        "colab_type": "code",
        "colab": {}
      },
      "source": [
        "#confusion matrix\n",
        "#Another way of looking at accuracy of classifier is to look at confusion matrix.\n",
        "\n",
        "from sklearn.metrics import classification_report, confusion_matrix\n",
        "import itertools\n"
      ],
      "execution_count": 0,
      "outputs": []
    },
    {
      "cell_type": "code",
      "metadata": {
        "id": "5cg93SUKKUSV",
        "colab_type": "code",
        "colab": {
          "base_uri": "https://localhost:8080/",
          "height": 50
        },
        "outputId": "63046533-18bb-40a2-960b-165a1bbf4317"
      },
      "source": [
        "def plot_confusion_matrix(cm, classes,\n",
        "                          normalize=False,\n",
        "                          title='Confusion matrix',\n",
        "                          cmap=plt.cm.Blues):\n",
        "    \"\"\"\n",
        "    This function prints and plots the confusion matrix.\n",
        "    Normalization can be applied by setting `normalize=True`.\n",
        "    \"\"\"\n",
        "    if normalize:\n",
        "        cm = cm.astype('float') / cm.sum(axis=1)[:, np.newaxis]\n",
        "        print(\"Normalized confusion matrix\")\n",
        "    else:\n",
        "        print('Confusion matrix, without normalization')\n",
        "\n",
        "    print(cm)\n",
        "\n",
        "    plt.imshow(cm, interpolation='nearest', cmap=cmap)\n",
        "    plt.title(title)\n",
        "    plt.colorbar()\n",
        "    tick_marks = np.arange(len(classes))\n",
        "    plt.xticks(tick_marks, classes, rotation=45)\n",
        "    plt.yticks(tick_marks, classes)\n",
        "\n",
        "    fmt = '.2f' if normalize else 'd'\n",
        "    thresh = cm.max() / 2.\n",
        "    for i, j in itertools.product(range(cm.shape[0]), range(cm.shape[1])):\n",
        "        plt.text(j, i, format(cm[i, j], fmt),\n",
        "                 horizontalalignment=\"center\",\n",
        "                 color=\"white\" if cm[i, j] > thresh else \"black\")\n",
        "\n",
        "    plt.tight_layout()\n",
        "    plt.ylabel('True label')\n",
        "    plt.xlabel('Predicted label')\n",
        "print(confusion_matrix(y_test, yhat, labels=[1,0]))"
      ],
      "execution_count": 36,
      "outputs": [
        {
          "output_type": "stream",
          "text": [
            "[[ 6  9]\n",
            " [ 1 24]]\n"
          ],
          "name": "stdout"
        }
      ]
    },
    {
      "cell_type": "code",
      "metadata": {
        "id": "UgiI2lApKcu-",
        "colab_type": "code",
        "colab": {
          "base_uri": "https://localhost:8080/",
          "height": 361
        },
        "outputId": "002cb88e-bb05-400d-8067-aa3a648e74e9"
      },
      "source": [
        "# Compute confusion matrix\n",
        "cnf_matrix = confusion_matrix(y_test, yhat, labels=[1,0])\n",
        "np.set_printoptions(precision=2)\n",
        "\n",
        "\n",
        "# Plot non-normalized confusion matrix\n",
        "plt.figure()\n",
        "plot_confusion_matrix(cnf_matrix, classes=['churn=1','churn=0'],normalize= False,  title='Confusion matrix')"
      ],
      "execution_count": 38,
      "outputs": [
        {
          "output_type": "stream",
          "text": [
            "Confusion matrix, without normalization\n",
            "[[ 6  9]\n",
            " [ 1 24]]\n"
          ],
          "name": "stdout"
        },
        {
          "output_type": "display_data",
          "data": {
            "image/png": "[encoded data removed]",
            "text/plain": [
              "<Figure size 432x288 with 2 Axes>"
            ]
          },
          "metadata": {
            "tags": []
          }
        }
      ]
    },
    {
      "cell_type": "code",
      "metadata": {
        "id": "TJUd0P3-Ki57",
        "colab_type": "code",
        "colab": {}
      },
      "source": [
        "#explanation:-\n",
        "\"\"\"\n",
        "Look at first row. The first row is for customers whose actual churn value in test set is 1. As you can calculate, \n",
        "out of 40 customers, the churn value of 15 of them is 1. And out of these 15, the classifier correctly predicted 6 of them as 1, and 9 of them as 0.\n",
        "It means, for 6 customers, the actual churn value were 1 in test set, and classifier also correctly predicted those as 1. \n",
        "However, while the actual label of 9 customers were 1, the classifier predicted those as 0, which is not very good. \n",
        "We can consider it as error of the model for first row.\n",
        "\n",
        "What about the customers with churn value 0? Lets look at the second row. It looks like there were 25 customers whom their churn value were 0.\n",
        "\n",
        "The classifier correctly predicted 24 of them as 0, and one of them wrongly as 1. So, it has done a good job in predicting the customers with churn value 0. \n",
        "A good thing about confusion matrix is that shows the model’s ability to correctly predict or separate the classes. In specific case of binary classifier, \n",
        "such as this example,\n",
        "we can interpret these numbers as the count of true positives, false positives, true negatives, and false negatives.\n",
        "\"\"\""
      ],
      "execution_count": 0,
      "outputs": []
    },
    {
      "cell_type": "code",
      "metadata": {
        "id": "h6Oy0ReBLWNp",
        "colab_type": "code",
        "colab": {
          "base_uri": "https://localhost:8080/",
          "height": 167
        },
        "outputId": "a72292eb-77e6-487e-abe0-6893e5a99bb8"
      },
      "source": [
        "print (classification_report(y_test, yhat))\n",
        "\n"
      ],
      "execution_count": 39,
      "outputs": [
        {
          "output_type": "stream",
          "text": [
            "              precision    recall  f1-score   support\n",
            "\n",
            "           0       0.73      0.96      0.83        25\n",
            "           1       0.86      0.40      0.55        15\n",
            "\n",
            "    accuracy                           0.75        40\n",
            "   macro avg       0.79      0.68      0.69        40\n",
            "weighted avg       0.78      0.75      0.72        40\n",
            "\n"
          ],
          "name": "stdout"
        }
      ]
    },
    {
      "cell_type": "code",
      "metadata": {
        "id": "jhU-SjGHLlHD",
        "colab_type": "code",
        "colab": {}
      },
      "source": [
        "\"\"\"\n",
        "Based on the count of each section, we can calculate precision and recall of each label:\n",
        " #Precision is a measure of the accuracy provided that a class label has been predicted. It is defined by: precision = TP / (TP + FP)\n",
        " #Recall is true positive rate. It is defined as: Recall = TP / (TP + FN)\n",
        "So, we can calculate precision and recall of each class.\n",
        " #F1 score: Now we are in the position to calculate the F1 scores for each label based on the precision and recall of that label.\n",
        "\"\"\""
      ],
      "execution_count": 0,
      "outputs": []
    },
    {
      "cell_type": "code",
      "metadata": {
        "id": "fdv-OiwWLyai",
        "colab_type": "code",
        "colab": {
          "base_uri": "https://localhost:8080/",
          "height": 33
        },
        "outputId": "a733264f-30ae-4d45-ecd0-b5268541444b"
      },
      "source": [
        "#log loss\n",
        "#Now, lets try log loss for evaluation. In logistic regression, the output can be the probability of customer churn is yes (or equals to 1). \n",
        "#This probability is a value between 0 and 1. Log loss( Logarithmic loss) measures the performance of a classifier where the predicted output is a \n",
        "#probability value between 0 and 1.\n",
        "\n",
        "from sklearn.metrics import log_loss\n",
        "log_loss(y_test, yhat_prob)"
      ],
      "execution_count": 41,
      "outputs": [
        {
          "output_type": "execute_result",
          "data": {
            "text/plain": [
              "0.6017092478101185"
            ]
          },
          "metadata": {
            "tags": []
          },
          "execution_count": 41
        }
      ]
    },
    {
      "cell_type": "code",
      "metadata": {
        "id": "znvMT59MMLtB",
        "colab_type": "code",
        "colab": {}
      },
      "source": [
        ""
      ],
      "execution_count": 0,
      "outputs": []
    }
  ]
}